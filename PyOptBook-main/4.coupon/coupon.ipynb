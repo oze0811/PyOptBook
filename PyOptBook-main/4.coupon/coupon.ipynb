{
  "cells": [
    {
      "cell_type": "markdown",
      "metadata": {
        "id": "yIEeaLe7j53J"
      },
      "source": [
        "# 第4章　割引クーポンキャンペーンの効果最大化\n"
      ]
    },
    {
      "cell_type": "markdown",
      "metadata": {
        "id": "MpobIUsQkGTB"
      },
      "source": [
        "## 4.3　データ理解"
      ]
    },
    {
      "cell_type": "markdown",
      "metadata": {
        "id": "eHxd8dJYmtsU"
      },
      "source": [
        "### データの確認"
      ]
    },
    {
      "cell_type": "markdown",
      "metadata": {
        "id": "-rhauInRl1LE"
      },
      "source": [
        "（1）　会員データ（customers.csv）の確認"
      ]
    },
    {
      "cell_type": "code",
      "execution_count": 1,
      "metadata": {
        "colab": {
          "base_uri": "https://localhost:8080/"
        },
        "id": "R9ZuwATqxgAa",
        "outputId": "3b2f6100-1c0d-428a-cca5-3492f4bb4546"
      },
      "outputs": [
        {
          "data": {
            "text/plain": [
              "(5000, 3)"
            ]
          },
          "execution_count": 1,
          "metadata": {},
          "output_type": "execute_result"
        }
      ],
      "source": [
        "import pandas as pd\n",
        "cust_df = pd.read_csv('customers.csv')\n",
        "cust_df.shape"
      ]
    },
    {
      "cell_type": "code",
      "execution_count": 2,
      "metadata": {
        "colab": {
          "base_uri": "https://localhost:8080/",
          "height": 204
        },
        "id": "ME94wZRPxhZC",
        "outputId": "139ec14f-041a-4cd8-8b41-78e35e0a7074"
      },
      "outputs": [
        {
          "data": {
            "text/html": [
              "<div>\n",
              "<style scoped>\n",
              "    .dataframe tbody tr th:only-of-type {\n",
              "        vertical-align: middle;\n",
              "    }\n",
              "\n",
              "    .dataframe tbody tr th {\n",
              "        vertical-align: top;\n",
              "    }\n",
              "\n",
              "    .dataframe thead th {\n",
              "        text-align: right;\n",
              "    }\n",
              "</style>\n",
              "<table border=\"1\" class=\"dataframe\">\n",
              "  <thead>\n",
              "    <tr style=\"text-align: right;\">\n",
              "      <th></th>\n",
              "      <th>customer_id</th>\n",
              "      <th>age_cat</th>\n",
              "      <th>freq_cat</th>\n",
              "    </tr>\n",
              "  </thead>\n",
              "  <tbody>\n",
              "    <tr>\n",
              "      <th>0</th>\n",
              "      <td>1</td>\n",
              "      <td>age20~34</td>\n",
              "      <td>freq2</td>\n",
              "    </tr>\n",
              "    <tr>\n",
              "      <th>1</th>\n",
              "      <td>2</td>\n",
              "      <td>age35~49</td>\n",
              "      <td>freq0</td>\n",
              "    </tr>\n",
              "    <tr>\n",
              "      <th>2</th>\n",
              "      <td>3</td>\n",
              "      <td>age35~49</td>\n",
              "      <td>freq0</td>\n",
              "    </tr>\n",
              "    <tr>\n",
              "      <th>3</th>\n",
              "      <td>4</td>\n",
              "      <td>age~19</td>\n",
              "      <td>freq0</td>\n",
              "    </tr>\n",
              "    <tr>\n",
              "      <th>4</th>\n",
              "      <td>5</td>\n",
              "      <td>age35~49</td>\n",
              "      <td>freq0</td>\n",
              "    </tr>\n",
              "  </tbody>\n",
              "</table>\n",
              "</div>"
            ],
            "text/plain": [
              "   customer_id   age_cat freq_cat\n",
              "0            1  age20~34    freq2\n",
              "1            2  age35~49    freq0\n",
              "2            3  age35~49    freq0\n",
              "3            4    age~19    freq0\n",
              "4            5  age35~49    freq0"
            ]
          },
          "execution_count": 2,
          "metadata": {},
          "output_type": "execute_result"
        }
      ],
      "source": [
        "# ファイル上部のレコード\n",
        "cust_df.head()"
      ]
    },
    {
      "cell_type": "code",
      "execution_count": 3,
      "metadata": {
        "colab": {
          "base_uri": "https://localhost:8080/"
        },
        "id": "p1fX1frexjTL",
        "outputId": "0c56d8ba-3ea1-49d5-9f4d-61fef3e58113"
      },
      "outputs": [
        {
          "data": {
            "text/plain": [
              "customer_id     int64\n",
              "age_cat        object\n",
              "freq_cat       object\n",
              "dtype: object"
            ]
          },
          "execution_count": 3,
          "metadata": {},
          "output_type": "execute_result"
        }
      ],
      "source": [
        "# データの型\n",
        "cust_df.dtypes"
      ]
    },
    {
      "cell_type": "code",
      "execution_count": 4,
      "metadata": {
        "colab": {
          "base_uri": "https://localhost:8080/",
          "height": 282
        },
        "id": "0pYxvUQ0xlCd",
        "outputId": "a782f268-bc1f-436e-ae3f-907ac84da0d0"
      },
      "outputs": [
        {
          "data": {
            "text/plain": [
              "<matplotlib.axes._subplots.AxesSubplot at 0x7f86046c27f0>"
            ]
          },
          "execution_count": 4,
          "metadata": {},
          "output_type": "execute_result"
        },
        {
          "data": {
            "image/png": "[encoded data removed]",
            "text/plain": [
              "<Figure size 432x288 with 1 Axes>"
            ]
          },
          "metadata": {
            "needs_background": "light"
          },
          "output_type": "display_data"
        }
      ],
      "source": [
        "cust_df['age_cat'].hist()"
      ]
    },
    {
      "cell_type": "code",
      "execution_count": 5,
      "metadata": {
        "colab": {
          "base_uri": "https://localhost:8080/",
          "height": 282
        },
        "id": "JdezGQiZxu29",
        "outputId": "b1860193-7ced-401d-84dc-fc0b63a817fd"
      },
      "outputs": [
        {
          "data": {
            "text/plain": [
              "<matplotlib.axes._subplots.AxesSubplot at 0x7f85ffafe3a0>"
            ]
          },
          "execution_count": 5,
          "metadata": {},
          "output_type": "execute_result"
        },
        {
          "data": {
            "image/png": "[encoded data removed]",
            "text/plain": [
              "<Figure size 432x288 with 1 Axes>"
            ]
          },
          "metadata": {
            "needs_background": "light"
          },
          "output_type": "display_data"
        }
      ],
      "source": [
        "cust_df['freq_cat'].hist()"
      ]
    },
    {
      "cell_type": "code",
      "execution_count": 6,
      "metadata": {
        "colab": {
          "base_uri": "https://localhost:8080/",
          "height": 204
        },
        "id": "u6nfmf4Bxv83",
        "outputId": "3d8d61c7-a3b6-4347-e7cd-05c7c9c29d4a"
      },
      "outputs": [
        {
          "data": {
            "text/html": [
              "<div>\n",
              "<style scoped>\n",
              "    .dataframe tbody tr th:only-of-type {\n",
              "        vertical-align: middle;\n",
              "    }\n",
              "\n",
              "    .dataframe tbody tr th {\n",
              "        vertical-align: top;\n",
              "    }\n",
              "\n",
              "    .dataframe thead th {\n",
              "        text-align: right;\n",
              "    }\n",
              "</style>\n",
              "<table border=\"1\" class=\"dataframe\">\n",
              "  <thead>\n",
              "    <tr style=\"text-align: right;\">\n",
              "      <th>freq_cat</th>\n",
              "      <th>freq0</th>\n",
              "      <th>freq1</th>\n",
              "      <th>freq2</th>\n",
              "      <th>freq3~</th>\n",
              "    </tr>\n",
              "    <tr>\n",
              "      <th>age_cat</th>\n",
              "      <th></th>\n",
              "      <th></th>\n",
              "      <th></th>\n",
              "      <th></th>\n",
              "    </tr>\n",
              "  </thead>\n",
              "  <tbody>\n",
              "    <tr>\n",
              "      <th>age~19</th>\n",
              "      <td>200</td>\n",
              "      <td>150</td>\n",
              "      <td>50</td>\n",
              "      <td>100</td>\n",
              "    </tr>\n",
              "    <tr>\n",
              "      <th>age20~34</th>\n",
              "      <td>600</td>\n",
              "      <td>450</td>\n",
              "      <td>150</td>\n",
              "      <td>300</td>\n",
              "    </tr>\n",
              "    <tr>\n",
              "      <th>age35~49</th>\n",
              "      <td>800</td>\n",
              "      <td>600</td>\n",
              "      <td>200</td>\n",
              "      <td>400</td>\n",
              "    </tr>\n",
              "    <tr>\n",
              "      <th>age50~</th>\n",
              "      <td>400</td>\n",
              "      <td>300</td>\n",
              "      <td>100</td>\n",
              "      <td>200</td>\n",
              "    </tr>\n",
              "  </tbody>\n",
              "</table>\n",
              "</div>"
            ],
            "text/plain": [
              "freq_cat  freq0  freq1  freq2  freq3~\n",
              "age_cat                              \n",
              "age~19      200    150     50     100\n",
              "age20~34    600    450    150     300\n",
              "age35~49    800    600    200     400\n",
              "age50~      400    300    100     200"
            ]
          },
          "execution_count": 6,
          "metadata": {},
          "output_type": "execute_result"
        }
      ],
      "source": [
        "cust_pivot_df = pd.pivot_table(data=cust_df, values='customer_id', columns='freq_cat', index='age_cat', aggfunc='count')\n",
        "cust_pivot_df = cust_pivot_df.reindex(['age~19', 'age20~34', 'age35~49', 'age50~'])\n",
        "cust_pivot_df"
      ]
    },
    {
      "cell_type": "code",
      "execution_count": 7,
      "metadata": {
        "colab": {
          "base_uri": "https://localhost:8080/",
          "height": 301
        },
        "id": "nbq_6U6gyMHn",
        "outputId": "9cc38070-4581-4c3a-ae5f-5a68cf69006c"
      },
      "outputs": [
        {
          "data": {
            "text/plain": [
              "<matplotlib.axes._subplots.AxesSubplot at 0x7f8605e0a910>"
            ]
          },
          "execution_count": 7,
          "metadata": {},
          "output_type": "execute_result"
        },
        {
          "data": {
            "image/png": "[encoded data removed]",
            "text/plain": [
              "<Figure size 432x288 with 2 Axes>"
            ]
          },
          "metadata": {
            "needs_background": "light"
          },
          "output_type": "display_data"
        }
      ],
      "source": [
        "import seaborn as sns\n",
        "sns.heatmap(cust_pivot_df, annot=True, fmt='d', cmap='Blues')"
      ]
    },
    {
      "cell_type": "markdown",
      "metadata": {
        "id": "98r9Lshel-GK"
      },
      "source": [
        "（2）　来店率データ（visit_probability.csv）の確認"
      ]
    },
    {
      "cell_type": "code",
      "execution_count": 8,
      "metadata": {
        "colab": {
          "base_uri": "https://localhost:8080/"
        },
        "id": "Rt6hzUPjyOj_",
        "outputId": "33944bc5-7ac1-48b9-944c-4dfeeaac6098"
      },
      "outputs": [
        {
          "data": {
            "text/plain": [
              "(16, 6)"
            ]
          },
          "execution_count": 8,
          "metadata": {},
          "output_type": "execute_result"
        }
      ],
      "source": [
        "prob_df = pd.read_csv('visit_probability.csv')\n",
        "prob_df.shape"
      ]
    },
    {
      "cell_type": "code",
      "execution_count": 9,
      "metadata": {
        "colab": {
          "base_uri": "https://localhost:8080/",
          "height": 545
        },
        "id": "cUYuxkA6ye9u",
        "outputId": "4902b095-35fe-428c-ad1e-19f46200056e"
      },
      "outputs": [
        {
          "data": {
            "text/html": [
              "<div>\n",
              "<style scoped>\n",
              "    .dataframe tbody tr th:only-of-type {\n",
              "        vertical-align: middle;\n",
              "    }\n",
              "\n",
              "    .dataframe tbody tr th {\n",
              "        vertical-align: top;\n",
              "    }\n",
              "\n",
              "    .dataframe thead th {\n",
              "        text-align: right;\n",
              "    }\n",
              "</style>\n",
              "<table border=\"1\" class=\"dataframe\">\n",
              "  <thead>\n",
              "    <tr style=\"text-align: right;\">\n",
              "      <th></th>\n",
              "      <th>age_cat</th>\n",
              "      <th>freq_cat</th>\n",
              "      <th>segment_id</th>\n",
              "      <th>prob_dm1</th>\n",
              "      <th>prob_dm2</th>\n",
              "      <th>prob_dm3</th>\n",
              "    </tr>\n",
              "  </thead>\n",
              "  <tbody>\n",
              "    <tr>\n",
              "      <th>0</th>\n",
              "      <td>age~19</td>\n",
              "      <td>freq0</td>\n",
              "      <td>1</td>\n",
              "      <td>0.07</td>\n",
              "      <td>0.12</td>\n",
              "      <td>0.29</td>\n",
              "    </tr>\n",
              "    <tr>\n",
              "      <th>1</th>\n",
              "      <td>age~19</td>\n",
              "      <td>freq1</td>\n",
              "      <td>2</td>\n",
              "      <td>0.21</td>\n",
              "      <td>0.30</td>\n",
              "      <td>0.58</td>\n",
              "    </tr>\n",
              "    <tr>\n",
              "      <th>2</th>\n",
              "      <td>age~19</td>\n",
              "      <td>freq2</td>\n",
              "      <td>3</td>\n",
              "      <td>0.28</td>\n",
              "      <td>0.39</td>\n",
              "      <td>0.74</td>\n",
              "    </tr>\n",
              "    <tr>\n",
              "      <th>3</th>\n",
              "      <td>age~19</td>\n",
              "      <td>freq3~</td>\n",
              "      <td>4</td>\n",
              "      <td>0.35</td>\n",
              "      <td>0.45</td>\n",
              "      <td>0.77</td>\n",
              "    </tr>\n",
              "    <tr>\n",
              "      <th>4</th>\n",
              "      <td>age20~34</td>\n",
              "      <td>freq0</td>\n",
              "      <td>5</td>\n",
              "      <td>0.11</td>\n",
              "      <td>0.17</td>\n",
              "      <td>0.37</td>\n",
              "    </tr>\n",
              "    <tr>\n",
              "      <th>5</th>\n",
              "      <td>age20~34</td>\n",
              "      <td>freq1</td>\n",
              "      <td>6</td>\n",
              "      <td>0.32</td>\n",
              "      <td>0.43</td>\n",
              "      <td>0.72</td>\n",
              "    </tr>\n",
              "    <tr>\n",
              "      <th>6</th>\n",
              "      <td>age20~34</td>\n",
              "      <td>freq2</td>\n",
              "      <td>7</td>\n",
              "      <td>0.42</td>\n",
              "      <td>0.55</td>\n",
              "      <td>0.93</td>\n",
              "    </tr>\n",
              "    <tr>\n",
              "      <th>7</th>\n",
              "      <td>age20~34</td>\n",
              "      <td>freq3~</td>\n",
              "      <td>8</td>\n",
              "      <td>0.52</td>\n",
              "      <td>0.63</td>\n",
              "      <td>0.94</td>\n",
              "    </tr>\n",
              "    <tr>\n",
              "      <th>8</th>\n",
              "      <td>age35~49</td>\n",
              "      <td>freq0</td>\n",
              "      <td>9</td>\n",
              "      <td>0.08</td>\n",
              "      <td>0.14</td>\n",
              "      <td>0.33</td>\n",
              "    </tr>\n",
              "    <tr>\n",
              "      <th>9</th>\n",
              "      <td>age35~49</td>\n",
              "      <td>freq1</td>\n",
              "      <td>10</td>\n",
              "      <td>0.25</td>\n",
              "      <td>0.35</td>\n",
              "      <td>0.67</td>\n",
              "    </tr>\n",
              "    <tr>\n",
              "      <th>10</th>\n",
              "      <td>age35~49</td>\n",
              "      <td>freq2</td>\n",
              "      <td>11</td>\n",
              "      <td>0.34</td>\n",
              "      <td>0.45</td>\n",
              "      <td>0.86</td>\n",
              "    </tr>\n",
              "    <tr>\n",
              "      <th>11</th>\n",
              "      <td>age35~49</td>\n",
              "      <td>freq3~</td>\n",
              "      <td>12</td>\n",
              "      <td>0.42</td>\n",
              "      <td>0.52</td>\n",
              "      <td>0.89</td>\n",
              "    </tr>\n",
              "    <tr>\n",
              "      <th>12</th>\n",
              "      <td>age50~</td>\n",
              "      <td>freq0</td>\n",
              "      <td>13</td>\n",
              "      <td>0.07</td>\n",
              "      <td>0.13</td>\n",
              "      <td>0.32</td>\n",
              "    </tr>\n",
              "    <tr>\n",
              "      <th>13</th>\n",
              "      <td>age50~</td>\n",
              "      <td>freq1</td>\n",
              "      <td>14</td>\n",
              "      <td>0.21</td>\n",
              "      <td>0.33</td>\n",
              "      <td>0.65</td>\n",
              "    </tr>\n",
              "    <tr>\n",
              "      <th>14</th>\n",
              "      <td>age50~</td>\n",
              "      <td>freq2</td>\n",
              "      <td>15</td>\n",
              "      <td>0.28</td>\n",
              "      <td>0.42</td>\n",
              "      <td>0.84</td>\n",
              "    </tr>\n",
              "    <tr>\n",
              "      <th>15</th>\n",
              "      <td>age50~</td>\n",
              "      <td>freq3~</td>\n",
              "      <td>16</td>\n",
              "      <td>0.35</td>\n",
              "      <td>0.49</td>\n",
              "      <td>0.88</td>\n",
              "    </tr>\n",
              "  </tbody>\n",
              "</table>\n",
              "</div>"
            ],
            "text/plain": [
              "     age_cat freq_cat  segment_id  prob_dm1  prob_dm2  prob_dm3\n",
              "0     age~19    freq0           1      0.07      0.12      0.29\n",
              "1     age~19    freq1           2      0.21      0.30      0.58\n",
              "2     age~19    freq2           3      0.28      0.39      0.74\n",
              "3     age~19   freq3~           4      0.35      0.45      0.77\n",
              "4   age20~34    freq0           5      0.11      0.17      0.37\n",
              "5   age20~34    freq1           6      0.32      0.43      0.72\n",
              "6   age20~34    freq2           7      0.42      0.55      0.93\n",
              "7   age20~34   freq3~           8      0.52      0.63      0.94\n",
              "8   age35~49    freq0           9      0.08      0.14      0.33\n",
              "9   age35~49    freq1          10      0.25      0.35      0.67\n",
              "10  age35~49    freq2          11      0.34      0.45      0.86\n",
              "11  age35~49   freq3~          12      0.42      0.52      0.89\n",
              "12    age50~    freq0          13      0.07      0.13      0.32\n",
              "13    age50~    freq1          14      0.21      0.33      0.65\n",
              "14    age50~    freq2          15      0.28      0.42      0.84\n",
              "15    age50~   freq3~          16      0.35      0.49      0.88"
            ]
          },
          "execution_count": 9,
          "metadata": {},
          "output_type": "execute_result"
        }
      ],
      "source": [
        "prob_df"
      ]
    },
    {
      "cell_type": "code",
      "execution_count": 10,
      "metadata": {
        "colab": {
          "base_uri": "https://localhost:8080/",
          "height": 221
        },
        "id": "Yis9-nwbylI4",
        "outputId": "256a81ad-d1e2-4563-ab74-f1278b1c7483"
      },
      "outputs": [
        {
          "data": {
            "image/png": "[encoded data removed]",
            "text/plain": [
              "<Figure size 1440x216 with 6 Axes>"
            ]
          },
          "metadata": {
            "needs_background": "light"
          },
          "output_type": "display_data"
        }
      ],
      "source": [
        "import matplotlib.pyplot as plt\n",
        "ax = {}\n",
        "fig, (ax[0], ax[1], ax[2]) = plt.subplots(1,3, figsize=(20,3))\n",
        "for i, ptn in enumerate(['prob_dm1', 'prob_dm2', 'prob_dm3']):\n",
        "    prob_pivot_df = pd.pivot_table(data=prob_df, values=ptn, columns='freq_cat', index='age_cat')\n",
        "    prob_pivot_df = prob_pivot_df.reindex (['age~19','age20~34', 'age35~49', 'age50~'])\n",
        "    sns.heatmap(prob_pivot_df, vmin=0, vmax=1, annot=True, fmt='.0%', cmap='Blues', ax=ax[i])\n",
        "    ax[i].set_title(f'Visit Probability of {ptn}')\n",
        "plt.show()"
      ]
    },
    {
      "cell_type": "markdown",
      "metadata": {
        "id": "okxORY0VmFXp"
      },
      "source": [
        "## 4.4　数理モデリングと実装"
      ]
    },
    {
      "cell_type": "markdown",
      "metadata": {
        "id": "PxBa-u73mNRe"
      },
      "source": [
        "### モデリング1：会員個別送付モデル"
      ]
    },
    {
      "cell_type": "code",
      "execution_count": 11,
      "metadata": {
        "colab": {
          "base_uri": "https://localhost:8080/"
        },
        "id": "5yeSlp0vzBRw",
        "outputId": "a337e211-c766-4a06-eb38-3c9d32cb9bca"
      },
      "outputs": [],
      "source": [
        "# !pip install pulp\n",
        "import pulp\n",
        "\n",
        "problem = pulp.LpProblem(name='DiscountCouponProblem1',sense=pulp.LpMaximize)"
      ]
    },
    {
      "cell_type": "markdown",
      "metadata": {
        "id": "qqdnuv69u7aX"
      },
      "source": [
        "要件（1）　各会員に対してどのパターンのダイレクトメールを送付するかを決定"
      ]
    },
    {
      "cell_type": "code",
      "execution_count": 12,
      "metadata": {
        "id": "4vn_o5xOylJ1"
      },
      "outputs": [],
      "source": [
        "# 会員IDのリスト\n",
        "I = cust_df['customer_id'].to_list()"
      ]
    },
    {
      "cell_type": "code",
      "execution_count": 13,
      "metadata": {
        "id": "ndWCrozMzV7p"
      },
      "outputs": [],
      "source": [
        "# ダイレクトメールのパターンのリスト\n",
        "M = [1, 2, 3]"
      ]
    },
    {
      "cell_type": "code",
      "execution_count": 14,
      "metadata": {
        "colab": {
          "base_uri": "https://localhost:8080/"
        },
        "id": "-c-je1bUzXb-",
        "outputId": "31707a67-d148-45b6-a164-05c152ad37ed"
      },
      "outputs": [
        {
          "data": {
            "text/plain": [
              "15000"
            ]
          },
          "execution_count": 14,
          "metadata": {},
          "output_type": "execute_result"
        }
      ],
      "source": [
        "# （1）各会員に対してどのパターンのダイレクトメールを送付するかを決定\n",
        "xim = {}\n",
        "for i in I:\n",
        "    for m in M:\n",
        "        xim[i,m] = pulp.LpVariable(name=f'xim({i},{m})',cat='Binary')\n",
        "# 決定変数の数\n",
        "len(xim)"
      ]
    },
    {
      "cell_type": "markdown",
      "metadata": {
        "id": "L2v43kq2vIcR"
      },
      "source": [
        "要件（2）　各会員に対して送付するダイレクトメールはいずれか1 パターン"
      ]
    },
    {
      "cell_type": "code",
      "execution_count": 15,
      "metadata": {
        "id": "lkF2VuUnvJrA"
      },
      "outputs": [],
      "source": [
        "#　（2）各会員に対して送付するダイレクトメールはいずれか1パターン\n",
        "for i in I:\n",
        "    problem += pulp.lpSum(xim[i,m] for m in M) == 1"
      ]
    },
    {
      "cell_type": "markdown",
      "metadata": {
        "id": "rowHupMcvbXi"
      },
      "source": [
        "要件（3）　クーポン付与による来客増加数を最大化"
      ]
    },
    {
      "cell_type": "code",
      "execution_count": 16,
      "metadata": {
        "colab": {
          "base_uri": "https://localhost:8080/",
          "height": 204
        },
        "id": "WLg3BLbt0XNS",
        "outputId": "d995f172-b51b-457c-91d2-6d33d879bd06"
      },
      "outputs": [
        {
          "data": {
            "text/html": [
              "<div>\n",
              "<style scoped>\n",
              "    .dataframe tbody tr th:only-of-type {\n",
              "        vertical-align: middle;\n",
              "    }\n",
              "\n",
              "    .dataframe tbody tr th {\n",
              "        vertical-align: top;\n",
              "    }\n",
              "\n",
              "    .dataframe thead th {\n",
              "        text-align: right;\n",
              "    }\n",
              "</style>\n",
              "<table border=\"1\" class=\"dataframe\">\n",
              "  <thead>\n",
              "    <tr style=\"text-align: right;\">\n",
              "      <th></th>\n",
              "      <th>customer_id</th>\n",
              "      <th>age_cat</th>\n",
              "      <th>freq_cat</th>\n",
              "      <th>segment_id</th>\n",
              "      <th>prob_dm1</th>\n",
              "      <th>prob_dm2</th>\n",
              "      <th>prob_dm3</th>\n",
              "    </tr>\n",
              "  </thead>\n",
              "  <tbody>\n",
              "    <tr>\n",
              "      <th>0</th>\n",
              "      <td>1</td>\n",
              "      <td>age20~34</td>\n",
              "      <td>freq2</td>\n",
              "      <td>7</td>\n",
              "      <td>0.42</td>\n",
              "      <td>0.55</td>\n",
              "      <td>0.93</td>\n",
              "    </tr>\n",
              "    <tr>\n",
              "      <th>1</th>\n",
              "      <td>199</td>\n",
              "      <td>age20~34</td>\n",
              "      <td>freq2</td>\n",
              "      <td>7</td>\n",
              "      <td>0.42</td>\n",
              "      <td>0.55</td>\n",
              "      <td>0.93</td>\n",
              "    </tr>\n",
              "    <tr>\n",
              "      <th>2</th>\n",
              "      <td>200</td>\n",
              "      <td>age20~34</td>\n",
              "      <td>freq2</td>\n",
              "      <td>7</td>\n",
              "      <td>0.42</td>\n",
              "      <td>0.55</td>\n",
              "      <td>0.93</td>\n",
              "    </tr>\n",
              "    <tr>\n",
              "      <th>3</th>\n",
              "      <td>255</td>\n",
              "      <td>age20~34</td>\n",
              "      <td>freq2</td>\n",
              "      <td>7</td>\n",
              "      <td>0.42</td>\n",
              "      <td>0.55</td>\n",
              "      <td>0.93</td>\n",
              "    </tr>\n",
              "    <tr>\n",
              "      <th>4</th>\n",
              "      <td>269</td>\n",
              "      <td>age20~34</td>\n",
              "      <td>freq2</td>\n",
              "      <td>7</td>\n",
              "      <td>0.42</td>\n",
              "      <td>0.55</td>\n",
              "      <td>0.93</td>\n",
              "    </tr>\n",
              "  </tbody>\n",
              "</table>\n",
              "</div>"
            ],
            "text/plain": [
              "   customer_id   age_cat freq_cat  segment_id  prob_dm1  prob_dm2  prob_dm3\n",
              "0            1  age20~34    freq2           7      0.42      0.55      0.93\n",
              "1          199  age20~34    freq2           7      0.42      0.55      0.93\n",
              "2          200  age20~34    freq2           7      0.42      0.55      0.93\n",
              "3          255  age20~34    freq2           7      0.42      0.55      0.93\n",
              "4          269  age20~34    freq2           7      0.42      0.55      0.93"
            ]
          },
          "execution_count": 16,
          "metadata": {},
          "output_type": "execute_result"
        }
      ],
      "source": [
        "keys = ['age_cat', 'freq_cat']\n",
        "cust_prob_df = pd.merge(cust_df, prob_df, on=keys)\n",
        "cust_prob_df.head()"
      ]
    },
    {
      "cell_type": "code",
      "execution_count": 17,
      "metadata": {
        "colab": {
          "base_uri": "https://localhost:8080/",
          "height": 419
        },
        "id": "zrw0qq5O0Z64",
        "outputId": "f09d2be7-0ca6-4bbf-f0fa-f7fa088d47fe"
      },
      "outputs": [
        {
          "data": {
            "text/html": [
              "<div>\n",
              "<style scoped>\n",
              "    .dataframe tbody tr th:only-of-type {\n",
              "        vertical-align: middle;\n",
              "    }\n",
              "\n",
              "    .dataframe tbody tr th {\n",
              "        vertical-align: top;\n",
              "    }\n",
              "\n",
              "    .dataframe thead th {\n",
              "        text-align: right;\n",
              "    }\n",
              "</style>\n",
              "<table border=\"1\" class=\"dataframe\">\n",
              "  <thead>\n",
              "    <tr style=\"text-align: right;\">\n",
              "      <th></th>\n",
              "      <th>customer_id</th>\n",
              "      <th>dm</th>\n",
              "      <th>prob</th>\n",
              "    </tr>\n",
              "  </thead>\n",
              "  <tbody>\n",
              "    <tr>\n",
              "      <th>0</th>\n",
              "      <td>1</td>\n",
              "      <td>1</td>\n",
              "      <td>0.42</td>\n",
              "    </tr>\n",
              "    <tr>\n",
              "      <th>1</th>\n",
              "      <td>199</td>\n",
              "      <td>1</td>\n",
              "      <td>0.42</td>\n",
              "    </tr>\n",
              "    <tr>\n",
              "      <th>2</th>\n",
              "      <td>200</td>\n",
              "      <td>1</td>\n",
              "      <td>0.42</td>\n",
              "    </tr>\n",
              "    <tr>\n",
              "      <th>3</th>\n",
              "      <td>255</td>\n",
              "      <td>1</td>\n",
              "      <td>0.42</td>\n",
              "    </tr>\n",
              "    <tr>\n",
              "      <th>4</th>\n",
              "      <td>269</td>\n",
              "      <td>1</td>\n",
              "      <td>0.42</td>\n",
              "    </tr>\n",
              "    <tr>\n",
              "      <th>...</th>\n",
              "      <td>...</td>\n",
              "      <td>...</td>\n",
              "      <td>...</td>\n",
              "    </tr>\n",
              "    <tr>\n",
              "      <th>14995</th>\n",
              "      <td>4474</td>\n",
              "      <td>3</td>\n",
              "      <td>0.74</td>\n",
              "    </tr>\n",
              "    <tr>\n",
              "      <th>14996</th>\n",
              "      <td>4596</td>\n",
              "      <td>3</td>\n",
              "      <td>0.74</td>\n",
              "    </tr>\n",
              "    <tr>\n",
              "      <th>14997</th>\n",
              "      <td>4720</td>\n",
              "      <td>3</td>\n",
              "      <td>0.74</td>\n",
              "    </tr>\n",
              "    <tr>\n",
              "      <th>14998</th>\n",
              "      <td>4910</td>\n",
              "      <td>3</td>\n",
              "      <td>0.74</td>\n",
              "    </tr>\n",
              "    <tr>\n",
              "      <th>14999</th>\n",
              "      <td>4947</td>\n",
              "      <td>3</td>\n",
              "      <td>0.74</td>\n",
              "    </tr>\n",
              "  </tbody>\n",
              "</table>\n",
              "<p>15000 rows × 3 columns</p>\n",
              "</div>"
            ],
            "text/plain": [
              "       customer_id dm  prob\n",
              "0                1  1  0.42\n",
              "1              199  1  0.42\n",
              "2              200  1  0.42\n",
              "3              255  1  0.42\n",
              "4              269  1  0.42\n",
              "...            ... ..   ...\n",
              "14995         4474  3  0.74\n",
              "14996         4596  3  0.74\n",
              "14997         4720  3  0.74\n",
              "14998         4910  3  0.74\n",
              "14999         4947  3  0.74\n",
              "\n",
              "[15000 rows x 3 columns]"
            ]
          },
          "execution_count": 17,
          "metadata": {},
          "output_type": "execute_result"
        }
      ],
      "source": [
        "cust_prob_ver_df = cust_prob_df.rename(columns={'prob_dm1': 1, 'prob_dm2': 2, 'prob_dm3': 3})\\\n",
        "                  .melt(id_vars=['customer_id'], value_vars=[1,2,3], var_name='dm', value_name='prob')\n",
        "cust_prob_ver_df"
      ]
    },
    {
      "cell_type": "code",
      "execution_count": 18,
      "metadata": {
        "id": "1u6B3DME0Z73"
      },
      "outputs": [],
      "source": [
        "Pim = cust_prob_ver_df.set_index(['customer_id','dm'])['prob'].to_dict()"
      ]
    },
    {
      "cell_type": "code",
      "execution_count": 19,
      "metadata": {
        "colab": {
          "base_uri": "https://localhost:8080/"
        },
        "id": "GQaLn24G0sbm",
        "outputId": "89b3aeb4-b272-495f-d1ae-28cef874aa00"
      },
      "outputs": [
        {
          "data": {
            "text/plain": [
              "0.42"
            ]
          },
          "execution_count": 19,
          "metadata": {},
          "output_type": "execute_result"
        }
      ],
      "source": [
        "Pim[1,1]"
      ]
    },
    {
      "cell_type": "code",
      "execution_count": 20,
      "metadata": {
        "id": "F-o9_KFm0scq"
      },
      "outputs": [],
      "source": [
        "# （3）クーポン付与による来客増加数を最大化\n",
        "problem += pulp.lpSum((Pim[i,m] - Pim[i,1]) * xim[i,m] for i in I for m in [2,3])"
      ]
    },
    {
      "cell_type": "markdown",
      "metadata": {
        "id": "atmxMLt7vmp_"
      },
      "source": [
        "要件（4）　会員の予算消費期待値の合計は100 万円以下"
      ]
    },
    {
      "cell_type": "code",
      "execution_count": 21,
      "metadata": {
        "id": "Xz_yr5Ct00NB"
      },
      "outputs": [],
      "source": [
        "Cm = {1:0, 2:1000, 3:2000}"
      ]
    },
    {
      "cell_type": "code",
      "execution_count": 22,
      "metadata": {
        "id": "C9AypOIo02Gb"
      },
      "outputs": [],
      "source": [
        "# （4）会員の消費する費用の期待値の合計は100万円以下\n",
        "problem += pulp.lpSum(Cm[m] * Pim[i,m]* xim[i,m] for i in I for m in [2,3]) <= 1000000"
      ]
    },
    {
      "cell_type": "code",
      "execution_count": 23,
      "metadata": {
        "colab": {
          "base_uri": "https://localhost:8080/"
        },
        "id": "Ia6Ywe3705RL",
        "outputId": "0f59531b-fa0c-4666-9519-b29523b6a4de"
      },
      "outputs": [
        {
          "data": {
            "text/plain": [
              "16"
            ]
          },
          "execution_count": 23,
          "metadata": {},
          "output_type": "execute_result"
        }
      ],
      "source": [
        "# セグメントのリスト\n",
        "S = prob_df['segment_id'].to_list()\n",
        "len(S)"
      ]
    },
    {
      "cell_type": "code",
      "execution_count": 24,
      "metadata": {
        "colab": {
          "base_uri": "https://localhost:8080/"
        },
        "id": "XZA9sm0i08f8",
        "outputId": "3da0e5f4-4542-4145-c945-d5f50e906f5d"
      },
      "outputs": [
        {
          "name": "stdout",
          "output_type": "stream",
          "text": [
            "{1: 200, 2: 150, 3: 50, 4: 100, 5: 600, 6: 450, 7: 150, 8: 300, 9: 800, 10: 600, 11: 200, 12: 400, 13: 400, 14: 300, 15: 100, 16: 200}\n"
          ]
        }
      ],
      "source": [
        "# 各セグメントとそのセグメントに属する会員数を対応させる辞書の作成\n",
        "Ns = cust_prob_df.groupby('segment_id')['customer_id'].count().to_dict()\n",
        "print(Ns)"
      ]
    },
    {
      "cell_type": "code",
      "execution_count": 25,
      "metadata": {
        "id": "nhr185Xi0_hx"
      },
      "outputs": [],
      "source": [
        "# 会員をキーとして属するセグメントを返す辞書\n",
        "Si = cust_prob_df.set_index('customer_id')['segment_id'].to_dict()"
      ]
    },
    {
      "cell_type": "markdown",
      "metadata": {
        "id": "4K_M-9nTvqLs"
      },
      "source": [
        "要件（5）　各パターンのダイレクトメールをそれぞれのセグメントに属する会員10% 以上に送付"
      ]
    },
    {
      "cell_type": "code",
      "execution_count": 26,
      "metadata": {
        "id": "HKV0nKfu0_jO"
      },
      "outputs": [],
      "source": [
        "# （5）各パターンのダイレクトメールをそれぞれのセグメントに属する会員数の10%以上に送付\n",
        "for s in S:\n",
        "    for m in M:\n",
        "        problem += pulp.lpSum(xim[i,m] for i in I if Si[i] == s) >= 0.1 * Ns[s]"
      ]
    },
    {
      "cell_type": "code",
      "execution_count": 27,
      "metadata": {
        "id": "eioodyUy1FYr"
      },
      "outputs": [],
      "source": [
        "# 時間を計測\n",
        "# モデリング1は、一部の環境ではgapRel（計算の終了判定とする上界と下界のギャップのしきい値）を指定しないと停止しない\n",
        "# solver = pulp.PULP_CBC_CMD(gapRel=10e-4)\n",
        "\n",
        "import time\n",
        "time_start = time.time()\n",
        "status = problem.solve()\n",
        "# gapRelを指定した場合はsolve関数にて上でパラメータを指定したsolverを引数にとる\n",
        "# status = problem.solve(solver)\n",
        "time_stop = time.time()"
      ]
    },
    {
      "cell_type": "code",
      "execution_count": 28,
      "metadata": {
        "colab": {
          "base_uri": "https://localhost:8080/"
        },
        "id": "Tww7TiPm1HoW",
        "outputId": "4d159f72-29f6-41e7-e3b6-6ca3d231de0c"
      },
      "outputs": [
        {
          "name": "stdout",
          "output_type": "stream",
          "text": [
            "ステータス:Optimal\n",
            "目的関数値:326.1\n",
            "計算時間:2.85(秒)\n"
          ]
        }
      ],
      "source": [
        "print(f'ステータス:{pulp.LpStatus[status]}')\n",
        "print(f'目的関数値:{pulp.value(problem.objective):.4}')\n",
        "print(f'計算時間:{(time_stop - time_start):.3}(秒)')"
      ]
    },
    {
      "cell_type": "code",
      "execution_count": 29,
      "metadata": {
        "colab": {
          "base_uri": "https://localhost:8080/",
          "height": 204
        },
        "id": "2FnmR21f1Mj5",
        "outputId": "3318aef7-ee7c-4c8a-b18b-47734db678c1"
      },
      "outputs": [
        {
          "data": {
            "text/html": [
              "<div>\n",
              "<style scoped>\n",
              "    .dataframe tbody tr th:only-of-type {\n",
              "        vertical-align: middle;\n",
              "    }\n",
              "\n",
              "    .dataframe tbody tr th {\n",
              "        vertical-align: top;\n",
              "    }\n",
              "\n",
              "    .dataframe thead th {\n",
              "        text-align: right;\n",
              "    }\n",
              "</style>\n",
              "<table border=\"1\" class=\"dataframe\">\n",
              "  <thead>\n",
              "    <tr style=\"text-align: right;\">\n",
              "      <th></th>\n",
              "      <th>send_dm1</th>\n",
              "      <th>send_dm2</th>\n",
              "      <th>send_dm3</th>\n",
              "    </tr>\n",
              "  </thead>\n",
              "  <tbody>\n",
              "    <tr>\n",
              "      <th>0</th>\n",
              "      <td>0.0</td>\n",
              "      <td>1.0</td>\n",
              "      <td>0.0</td>\n",
              "    </tr>\n",
              "    <tr>\n",
              "      <th>1</th>\n",
              "      <td>0.0</td>\n",
              "      <td>1.0</td>\n",
              "      <td>0.0</td>\n",
              "    </tr>\n",
              "    <tr>\n",
              "      <th>2</th>\n",
              "      <td>0.0</td>\n",
              "      <td>1.0</td>\n",
              "      <td>0.0</td>\n",
              "    </tr>\n",
              "    <tr>\n",
              "      <th>3</th>\n",
              "      <td>0.0</td>\n",
              "      <td>1.0</td>\n",
              "      <td>0.0</td>\n",
              "    </tr>\n",
              "    <tr>\n",
              "      <th>4</th>\n",
              "      <td>0.0</td>\n",
              "      <td>1.0</td>\n",
              "      <td>0.0</td>\n",
              "    </tr>\n",
              "  </tbody>\n",
              "</table>\n",
              "</div>"
            ],
            "text/plain": [
              "   send_dm1  send_dm2  send_dm3\n",
              "0       0.0       1.0       0.0\n",
              "1       0.0       1.0       0.0\n",
              "2       0.0       1.0       0.0\n",
              "3       0.0       1.0       0.0\n",
              "4       0.0       1.0       0.0"
            ]
          },
          "execution_count": 29,
          "metadata": {},
          "output_type": "execute_result"
        }
      ],
      "source": [
        "send_dm_df = pd.DataFrame([[xim[i,m].value() for m in M] for i in I], columns=['send_dm1', 'send_dm2', 'send_dm3'])\n",
        "send_dm_df.head()"
      ]
    },
    {
      "cell_type": "code",
      "execution_count": 30,
      "metadata": {
        "colab": {
          "base_uri": "https://localhost:8080/",
          "height": 204
        },
        "id": "HTD2AeuT1MlB",
        "outputId": "400dcb49-fb1e-457c-a05d-10ea9898fa20"
      },
      "outputs": [
        {
          "data": {
            "text/html": [
              "<div>\n",
              "<style scoped>\n",
              "    .dataframe tbody tr th:only-of-type {\n",
              "        vertical-align: middle;\n",
              "    }\n",
              "\n",
              "    .dataframe tbody tr th {\n",
              "        vertical-align: top;\n",
              "    }\n",
              "\n",
              "    .dataframe thead th {\n",
              "        text-align: right;\n",
              "    }\n",
              "</style>\n",
              "<table border=\"1\" class=\"dataframe\">\n",
              "  <thead>\n",
              "    <tr style=\"text-align: right;\">\n",
              "      <th></th>\n",
              "      <th>customer_id</th>\n",
              "      <th>age_cat</th>\n",
              "      <th>freq_cat</th>\n",
              "      <th>send_dm1</th>\n",
              "      <th>send_dm2</th>\n",
              "      <th>send_dm3</th>\n",
              "    </tr>\n",
              "  </thead>\n",
              "  <tbody>\n",
              "    <tr>\n",
              "      <th>0</th>\n",
              "      <td>1</td>\n",
              "      <td>age20~34</td>\n",
              "      <td>freq2</td>\n",
              "      <td>0.0</td>\n",
              "      <td>1.0</td>\n",
              "      <td>0.0</td>\n",
              "    </tr>\n",
              "    <tr>\n",
              "      <th>1</th>\n",
              "      <td>2</td>\n",
              "      <td>age35~49</td>\n",
              "      <td>freq0</td>\n",
              "      <td>0.0</td>\n",
              "      <td>1.0</td>\n",
              "      <td>0.0</td>\n",
              "    </tr>\n",
              "    <tr>\n",
              "      <th>2</th>\n",
              "      <td>3</td>\n",
              "      <td>age35~49</td>\n",
              "      <td>freq0</td>\n",
              "      <td>0.0</td>\n",
              "      <td>1.0</td>\n",
              "      <td>0.0</td>\n",
              "    </tr>\n",
              "    <tr>\n",
              "      <th>3</th>\n",
              "      <td>4</td>\n",
              "      <td>age~19</td>\n",
              "      <td>freq0</td>\n",
              "      <td>0.0</td>\n",
              "      <td>1.0</td>\n",
              "      <td>0.0</td>\n",
              "    </tr>\n",
              "    <tr>\n",
              "      <th>4</th>\n",
              "      <td>5</td>\n",
              "      <td>age35~49</td>\n",
              "      <td>freq0</td>\n",
              "      <td>0.0</td>\n",
              "      <td>1.0</td>\n",
              "      <td>0.0</td>\n",
              "    </tr>\n",
              "  </tbody>\n",
              "</table>\n",
              "</div>"
            ],
            "text/plain": [
              "   customer_id   age_cat freq_cat  send_dm1  send_dm2  send_dm3\n",
              "0            1  age20~34    freq2       0.0       1.0       0.0\n",
              "1            2  age35~49    freq0       0.0       1.0       0.0\n",
              "2            3  age35~49    freq0       0.0       1.0       0.0\n",
              "3            4    age~19    freq0       0.0       1.0       0.0\n",
              "4            5  age35~49    freq0       0.0       1.0       0.0"
            ]
          },
          "execution_count": 30,
          "metadata": {},
          "output_type": "execute_result"
        }
      ],
      "source": [
        "cust_send_df = pd.concat([cust_df[['customer_id', 'age_cat', 'freq_cat']], send_dm_df], axis=1)\n",
        "cust_send_df.head()"
      ]
    },
    {
      "cell_type": "code",
      "execution_count": 31,
      "metadata": {
        "colab": {
          "base_uri": "https://localhost:8080/",
          "height": 221
        },
        "id": "hILlMfPd1TQ6",
        "outputId": "2eba224a-0191-4573-f669-964c5cf8118a"
      },
      "outputs": [
        {
          "data": {
            "image/png": "[encoded data removed]",
            "text/plain": [
              "<Figure size 1440x216 with 6 Axes>"
            ]
          },
          "metadata": {
            "needs_background": "light"
          },
          "output_type": "display_data"
        }
      ],
      "source": [
        "# 各セグメントに対するそれぞれのダイレクトメールの送付率\n",
        "ax = {}\n",
        "fig, (ax[0], ax[1], ax[2]) = plt.subplots(1,3, figsize=(20,3))\n",
        "for i, ptn in enumerate(['send_dm1', 'send_dm2', 'send_dm3']):\n",
        "    cust_send_pivot_df = pd.pivot_table(data=cust_send_df, values=ptn, columns='freq_cat', index='age_cat', aggfunc='mean')\n",
        "    cust_send_pivot_df = cust_send_pivot_df.reindex(['age~19', 'age20~34', 'age35~49', 'age50~'])\n",
        "    sns.heatmap(cust_send_pivot_df, annot=True, fmt='.1%', cmap='Blues', vmin=0, vmax=1, ax=ax[i])\n",
        "    ax[i].set_title(f'{ptn}_rate')\n",
        "plt.show()"
      ]
    },
    {
      "cell_type": "code",
      "execution_count": 32,
      "metadata": {
        "colab": {
          "base_uri": "https://localhost:8080/",
          "height": 220
        },
        "id": "8JztmR5z1TSC",
        "outputId": "6dd37335-1281-4e2d-8372-8cd4834c6846"
      },
      "outputs": [
        {
          "data": {
            "image/png": "[encoded data removed]",
            "text/plain": [
              "<Figure size 1440x216 with 6 Axes>"
            ]
          },
          "metadata": {
            "needs_background": "light"
          },
          "output_type": "display_data"
        }
      ],
      "source": [
        "# 各セグメントに対するそれぞれのダイレクトメールの送付数\n",
        "ax = {}\n",
        "fig, (ax[0], ax[1], ax[2]) = plt.subplots(1,3, figsize=(20,3))\n",
        "for i, ptn in enumerate(['send_dm1', 'send_dm2', 'send_dm3']):\n",
        "    cust_send_pivot_df = pd.pivot_table(data=cust_send_df, values=ptn, columns='freq_cat', index='age_cat',aggfunc='sum')\n",
        "    cust_send_pivot_df = cust_send_pivot_df.reindex(['age~19', 'age20~34', 'age35~49', 'age50~'])\n",
        "    sns.heatmap(cust_send_pivot_df, annot=True, fmt='.1f', cmap='Blues', vmax=800, ax=ax[i])\n",
        "    ax[i].set_title(f'{ptn}_num')\n",
        "plt.show()"
      ]
    },
    {
      "cell_type": "markdown",
      "metadata": {
        "id": "eSeYEY7bm9o9"
      },
      "source": [
        "### モデリング2：セグメント送付モデル"
      ]
    },
    {
      "cell_type": "code",
      "execution_count": 33,
      "metadata": {
        "id": "U09txqzN1zxw"
      },
      "outputs": [],
      "source": [
        "# 数理モデルのインスタンス作成\n",
        "problem = pulp.LpProblem(name='DiscountCouponProblem2', sense=pulp.LpMaximize)"
      ]
    },
    {
      "cell_type": "markdown",
      "metadata": {
        "id": "4bWSmUWuv20Y"
      },
      "source": [
        "要件（1）　各会員に対してどのパターンのダイレクトメールを送付するかを決定"
      ]
    },
    {
      "cell_type": "code",
      "execution_count": 34,
      "metadata": {
        "colab": {
          "base_uri": "https://localhost:8080/"
        },
        "id": "6Y47wPK11zy1",
        "outputId": "c40a29c6-9289-4131-e3d9-839d7fce18a6"
      },
      "outputs": [
        {
          "data": {
            "text/plain": [
              "48"
            ]
          },
          "execution_count": 34,
          "metadata": {},
          "output_type": "execute_result"
        }
      ],
      "source": [
        "# （1）各会員に対してどのパターンのダイレクトメールを送付するかを決定\n",
        "xsm = {}\n",
        "# ［0,1］の変数を宣言\n",
        "for s in S:\n",
        "    for m in M:\n",
        "        xsm[s,m] = pulp.LpVariable(name=f'xsm({s},{m})',\n",
        "        lowBound=0, upBound=1, cat='Continuous')\n",
        "len(xsm)"
      ]
    },
    {
      "cell_type": "markdown",
      "metadata": {
        "id": "cEm2mHqGv50i"
      },
      "source": [
        "要件（2）　各会員に対して送付するダイレクトメールはいずれか1 パターン"
      ]
    },
    {
      "cell_type": "code",
      "execution_count": 35,
      "metadata": {
        "id": "NzfLWJqn14ri"
      },
      "outputs": [],
      "source": [
        "# （2）各会員に対して送付するダイレクトメールはいずれか1パターン\n",
        "for s in S:\n",
        "    problem += pulp.lpSum(xsm[s,m] for m in M) == 1"
      ]
    },
    {
      "cell_type": "markdown",
      "metadata": {
        "id": "peCESTwdv-_U"
      },
      "source": [
        "要件（3）　クーポン付与による来客増加数を最大化"
      ]
    },
    {
      "cell_type": "code",
      "execution_count": 36,
      "metadata": {
        "id": "wR-azqey193v"
      },
      "outputs": [],
      "source": [
        "prob_ver_df = prob_df.rename(columns={'prob_dm1': 1,'prob_dm2': 2, 'prob_dm3': 3})\\\n",
        ".melt(id_vars=['segment_id'], value_vars=[1,2,3], var_name='dm', value_name='prob')\n",
        "Psm = prob_ver_df.set_index(['segment_id','dm'])['prob'].to_dict()"
      ]
    },
    {
      "cell_type": "code",
      "execution_count": 37,
      "metadata": {
        "id": "dWCqyvrp2C8d"
      },
      "outputs": [],
      "source": [
        "# （3）クーポン付与による来客増加数を最大化\n",
        "problem += pulp.lpSum(Ns[s] * (Psm[s,m] - Psm[s,1]) * xsm[s,m] for s in S for m in [2,3])"
      ]
    },
    {
      "cell_type": "markdown",
      "metadata": {
        "id": "bX6OBn7RwB7C"
      },
      "source": [
        "要件（4）　会員の予算消費期待値の合計は100 万円以下"
      ]
    },
    {
      "cell_type": "code",
      "execution_count": 38,
      "metadata": {
        "id": "RsuEtT362FZt"
      },
      "outputs": [],
      "source": [
        "# （4）会員の予算消費期待値の合計は100万円以下\n",
        "problem += pulp.lpSum(Cm[m] * Ns[s] * Psm[s,m] * xsm[s,m] for s in S for m in [2,3]) <= 1000000"
      ]
    },
    {
      "cell_type": "markdown",
      "metadata": {
        "id": "cjDfN3yPwEUR"
      },
      "source": [
        "要件（5）　各パターンのダイレクトメールをそれぞれのセグメントに属する会員数の10% 以上に送付"
      ]
    },
    {
      "cell_type": "code",
      "execution_count": 39,
      "metadata": {
        "id": "b4JexqPZ2JlV"
      },
      "outputs": [],
      "source": [
        "# （5）各パターンのダイレクトメールをそれぞれのセグメントに属する会員数の10%以上に送付\n",
        "for s in S:\n",
        "    for m in M:\n",
        "        problem += xsm[s,m] >= 0.1"
      ]
    },
    {
      "cell_type": "code",
      "execution_count": 40,
      "metadata": {
        "colab": {
          "base_uri": "https://localhost:8080/"
        },
        "id": "NsfflKdo2Jmi",
        "outputId": "b2bfb36f-44f8-431c-c00f-655fd9b82ba5"
      },
      "outputs": [
        {
          "name": "stdout",
          "output_type": "stream",
          "text": [
            "ステータス:Optimal\n",
            "目的関数値:326.1\n",
            "計算時間:0.0159(秒)\n"
          ]
        }
      ],
      "source": [
        "time_start = time.time()\n",
        "status = problem.solve()\n",
        "time_stop = time.time()\n",
        "print(f'ステータス:{pulp.LpStatus[status]}')\n",
        "print(f'目的関数値:{pulp.value(problem.objective):.4}')\n",
        "print(f'計算時間:{(time_stop - time_start):.3}(秒)')"
      ]
    },
    {
      "cell_type": "code",
      "execution_count": 41,
      "metadata": {
        "colab": {
          "base_uri": "https://localhost:8080/",
          "height": 221
        },
        "id": "NHwLpsqb2QYh",
        "outputId": "42837582-418e-4e68-a831-f55998fb255e"
      },
      "outputs": [
        {
          "data": {
            "image/png": "[encoded data removed]",
            "text/plain": [
              "<Figure size 1440x216 with 6 Axes>"
            ]
          },
          "metadata": {
            "needs_background": "light"
          },
          "output_type": "display_data"
        }
      ],
      "source": [
        "send_dm_df = pd.DataFrame([[xsm[s,m].value() for m in M] for s in S], columns=['send_prob_dm1', 'send_prob_dm2','send_prob_dm3'])\n",
        "seg_send_df = pd.concat([prob_df[['segment_id', 'age_cat', 'freq_cat']], send_dm_df], axis=1)\n",
        "# 各セグメントに対するそれぞれのダイレクトメールの送付率\n",
        "ax = {}\n",
        "fig, (ax[0], ax[1], ax[2]) = plt.subplots(1,3, figsize=(20,3))\n",
        "for i, ptn in enumerate(['send_prob_dm1', 'send_prob_dm2', 'send_prob_dm3']):\n",
        "    seg_send_pivot_df = pd.pivot_table(data=seg_send_df,values=ptn, columns='freq_cat', index='age_cat', aggfunc='mean')\n",
        "    seg_send_pivot_df = seg_send_pivot_df.reindex(['age~19', 'age20~34', 'age35~49', 'age50~'])\n",
        "    sns.heatmap(seg_send_pivot_df, annot=True, fmt='.1%', cmap='Blues', vmin=0, vmax=1, ax=ax[i])\n",
        "    ax[i].set_title(f'{ptn}')\n",
        "plt.show()"
      ]
    },
    {
      "cell_type": "code",
      "execution_count": 42,
      "metadata": {
        "colab": {
          "base_uri": "https://localhost:8080/",
          "height": 204
        },
        "id": "n9Yb1wot2fEb",
        "outputId": "c2f1f6eb-d7af-471d-faa8-5bb55e1beca1"
      },
      "outputs": [
        {
          "data": {
            "text/html": [
              "<div>\n",
              "<style scoped>\n",
              "    .dataframe tbody tr th:only-of-type {\n",
              "        vertical-align: middle;\n",
              "    }\n",
              "\n",
              "    .dataframe tbody tr th {\n",
              "        vertical-align: top;\n",
              "    }\n",
              "\n",
              "    .dataframe thead th {\n",
              "        text-align: right;\n",
              "    }\n",
              "</style>\n",
              "<table border=\"1\" class=\"dataframe\">\n",
              "  <thead>\n",
              "    <tr style=\"text-align: right;\">\n",
              "      <th></th>\n",
              "      <th>segment_id</th>\n",
              "      <th>send_num_dm1</th>\n",
              "      <th>send_num_dm2</th>\n",
              "      <th>send_num_dm3</th>\n",
              "    </tr>\n",
              "  </thead>\n",
              "  <tbody>\n",
              "    <tr>\n",
              "      <th>0</th>\n",
              "      <td>1</td>\n",
              "      <td>20.0</td>\n",
              "      <td>160.0</td>\n",
              "      <td>20.0</td>\n",
              "    </tr>\n",
              "    <tr>\n",
              "      <th>1</th>\n",
              "      <td>2</td>\n",
              "      <td>120.0</td>\n",
              "      <td>15.0</td>\n",
              "      <td>15.0</td>\n",
              "    </tr>\n",
              "    <tr>\n",
              "      <th>2</th>\n",
              "      <td>3</td>\n",
              "      <td>40.0</td>\n",
              "      <td>5.0</td>\n",
              "      <td>5.0</td>\n",
              "    </tr>\n",
              "    <tr>\n",
              "      <th>3</th>\n",
              "      <td>4</td>\n",
              "      <td>80.0</td>\n",
              "      <td>10.0</td>\n",
              "      <td>10.0</td>\n",
              "    </tr>\n",
              "    <tr>\n",
              "      <th>4</th>\n",
              "      <td>5</td>\n",
              "      <td>480.0</td>\n",
              "      <td>60.0</td>\n",
              "      <td>60.0</td>\n",
              "    </tr>\n",
              "  </tbody>\n",
              "</table>\n",
              "</div>"
            ],
            "text/plain": [
              "   segment_id  send_num_dm1  send_num_dm2  send_num_dm3\n",
              "0           1          20.0         160.0          20.0\n",
              "1           2         120.0          15.0          15.0\n",
              "2           3          40.0           5.0           5.0\n",
              "3           4          80.0          10.0          10.0\n",
              "4           5         480.0          60.0          60.0"
            ]
          },
          "execution_count": 42,
          "metadata": {},
          "output_type": "execute_result"
        }
      ],
      "source": [
        "seg_send_df['num_cust'] = seg_send_df['segment_id'].apply(lambda x: Ns[x])\n",
        "seg_send_df['send_num_dm1'] = seg_send_df['send_prob_dm1']*seg_send_df['num_cust']\n",
        "seg_send_df['send_num_dm2'] = seg_send_df['send_prob_dm2']*seg_send_df['num_cust']\n",
        "seg_send_df['send_num_dm3'] = seg_send_df['send_prob_dm3']*seg_send_df['num_cust']\n",
        "seg_send_df[['segment_id','send_num_dm1','send_num_dm2','send_num_dm3']].head()"
      ]
    },
    {
      "cell_type": "code",
      "execution_count": 43,
      "metadata": {
        "colab": {
          "base_uri": "https://localhost:8080/",
          "height": 220
        },
        "id": "M12GVs1l2fFo",
        "outputId": "9a1106e1-6321-4f8d-e9e1-75baaf4bcb49"
      },
      "outputs": [
        {
          "data": {
            "image/png": "[encoded data removed]",
            "text/plain": [
              "<Figure size 1440x216 with 6 Axes>"
            ]
          },
          "metadata": {
            "needs_background": "light"
          },
          "output_type": "display_data"
        }
      ],
      "source": [
        "# 各セグメントに対するそれぞれのダイレクトメールの送付数\n",
        "ax = {}\n",
        "fig, (ax[0], ax[1], ax[2]) = plt.subplots(1,3, figsize=(20,3))\n",
        "for i, ptn in enumerate(['send_num_dm1','send_num_dm2','send_num_dm3']):\n",
        "    seg_send_pivot_df = pd.pivot_table(data=seg_send_df,values=ptn, columns='freq_cat', index='age_cat')\n",
        "    seg_send_pivot_df = seg_send_pivot_df.reindex(['age~19', 'age20~34', 'age35~49', 'age50~'])\n",
        "    sns.heatmap(seg_send_pivot_df, annot=True, fmt='.1f', cmap='Blues', vmin=0, vmax=800, ax=ax[i])\n",
        "    ax[i].set_title(f'{ptn}')\n",
        "plt.show()"
      ]
    },
    {
      "cell_type": "markdown",
      "metadata": {
        "id": "Se5AsX4vnXCa"
      },
      "source": [
        "## 4.5 結果の評価"
      ]
    },
    {
      "cell_type": "markdown",
      "metadata": {
        "id": "tcsFJR9ZnhD9"
      },
      "source": [
        "### モデリング3：送付率下限値最大化モデル"
      ]
    },
    {
      "cell_type": "code",
      "execution_count": 44,
      "metadata": {
        "id": "jigPlDbB2rxa"
      },
      "outputs": [],
      "source": [
        "# 数理モデルのインスタンス作成\n",
        "problem = pulp.LpProblem(name='DiscountCouponProblem3', sense=pulp.LpMaximize)"
      ]
    },
    {
      "cell_type": "markdown",
      "metadata": {
        "id": "3rUFXy-JwNGa"
      },
      "source": [
        "要件（1）各セグメントへのダイレクトメールの送付率の下限値と各会員に対してどのダイレクトメールを送付するかを決定"
      ]
    },
    {
      "cell_type": "code",
      "execution_count": 45,
      "metadata": {
        "id": "RvHrsE0w2wj5"
      },
      "outputs": [],
      "source": [
        "#　（1）各セグメントへのそれぞれパターンのダイレクトメールの送付率の下限値と各会員に対してどのダイレクトメールを送付するかを決定\n",
        "# 会員に対してどのダイレクトメールを送付するか\n",
        "xsm = {}\n",
        "#　［0,1］の変数を宣言\n",
        "for s in S:\n",
        "    for m in M:\n",
        "        xsm[s,m] = pulp.LpVariable(name=f'xsm({s},{m})', lowBound=0, upBound=1, cat='Continuous')\n",
        "# 各セグメントへのそれぞれパターンのダイレクトメールの送付率の下限値\n",
        "y = pulp.LpVariable(name='y', lowBound=0, upBound=1, cat='Continuous')"
      ]
    },
    {
      "cell_type": "markdown",
      "metadata": {
        "id": "VacD6Bz7wRgC"
      },
      "source": [
        "要件（3）　各セグメントへのそれぞれのパターンのダイレクトメールの送付率の下限値を最大化"
      ]
    },
    {
      "cell_type": "code",
      "execution_count": 46,
      "metadata": {
        "id": "G7lsOw9625hU"
      },
      "outputs": [],
      "source": [
        "#　（3）各セグメントへのそれぞれパターンのダイレクトメールの送付率の下限値を最大化\n",
        "problem += y"
      ]
    },
    {
      "cell_type": "markdown",
      "metadata": {
        "id": "CXZ2UpIcwULB"
      },
      "source": [
        "要件（5）　各パターンのダイレクトメールを設定した送付率の下限値以上に送付"
      ]
    },
    {
      "cell_type": "code",
      "execution_count": 47,
      "metadata": {
        "id": "Tkz78vxh28Yl"
      },
      "outputs": [],
      "source": [
        "#　（5）各パターンのダイレクトメールを設定した送付率の下限値以上に送付\n",
        "for s in S:\n",
        "    for m in M:\n",
        "        problem += xsm[s,m] >= y"
      ]
    },
    {
      "cell_type": "markdown",
      "metadata": {
        "id": "KfQsmB4Uwd6I"
      },
      "source": [
        "要件（2）、要件（4）"
      ]
    },
    {
      "cell_type": "code",
      "execution_count": 48,
      "metadata": {
        "id": "YuvSlXli2-e6"
      },
      "outputs": [],
      "source": [
        "#　（2）各会員に対して送付するダイレクトメールはいずれか1パターン\n",
        "for s in S:\n",
        "    problem += pulp.lpSum(xsm[s,m] for m in M) == 1\n",
        "#　（4）会員の予算消費期待値の合計は100万円以下\n",
        "problem += pulp.lpSum(Cm[m] * Ns[s] * Psm[s,m] * xsm[s,m] for s in S for m in [2,3]) <= 1000000"
      ]
    },
    {
      "cell_type": "code",
      "execution_count": 49,
      "metadata": {
        "colab": {
          "base_uri": "https://localhost:8080/"
        },
        "id": "5kJaLaIO3BdK",
        "outputId": "f706b09f-7ec9-4f41-ee15-0624ff91c949"
      },
      "outputs": [
        {
          "name": "stdout",
          "output_type": "stream",
          "text": [
            "ステータス: Optimal, 目的関数値:0.131\n"
          ]
        }
      ],
      "source": [
        "status = problem.solve()\n",
        "max_lowerbound = pulp.value(problem.objective)\n",
        "print(f'ステータス: {pulp.LpStatus[status]}, 目的関数値:{max_lowerbound :.3}')"
      ]
    },
    {
      "cell_type": "code",
      "execution_count": 50,
      "metadata": {
        "colab": {
          "base_uri": "https://localhost:8080/",
          "height": 221
        },
        "id": "uqErKspY3EkL",
        "outputId": "d58f1a9b-ce62-4aeb-d553-efc4f19560cc"
      },
      "outputs": [
        {
          "data": {
            "image/png": "[encoded data removed]",
            "text/plain": [
              "<Figure size 1440x216 with 6 Axes>"
            ]
          },
          "metadata": {
            "needs_background": "light"
          },
          "output_type": "display_data"
        }
      ],
      "source": [
        "send_dm_df = pd.DataFrame([[xsm[s,m].value() for m in M]for s in S], columns=['send_prob_dm1', 'send_prob_dm2','send_prob_dm3'])\n",
        "seg_send_df = pd.concat([prob_df[['segment_id', 'age_cat', 'freq_cat']], send_dm_df], axis=1)\n",
        "ax = {}\n",
        "fig, (ax[0], ax[1], ax[2]) = plt.subplots(1,3, figsize=(20,3))\n",
        "for i, ptn in enumerate(['send_prob_dm1', 'send_prob_dm2', 'send_prob_dm3']):\n",
        "    seg_send_pivot_df = pd.pivot_table(data=seg_send_df,values=ptn, columns='freq_cat',index='age_cat', aggfunc='mean')\n",
        "    seg_send_pivot_df = seg_send_pivot_df.reindex(['age~19', 'age20~34', 'age35~49', 'age50~'])\n",
        "    sns.heatmap(seg_send_pivot_df, annot=True, fmt='.1%', cmap='Blues', vmin=0, vmax=1, ax=ax[i])\n",
        "    ax[i].set_title(f'{ptn}')\n",
        "plt.show()"
      ]
    },
    {
      "cell_type": "code",
      "execution_count": 51,
      "metadata": {
        "colab": {
          "base_uri": "https://localhost:8080/"
        },
        "id": "QRSry0ce3O2i",
        "outputId": "12fcc8f6-83f0-4b68-b9ea-4414e486f7ba"
      },
      "outputs": [
        {
          "name": "stdout",
          "output_type": "stream",
          "text": [
            "ステータス: Optimal, 目的関数値:300.6\n"
          ]
        }
      ],
      "source": [
        "# 数理モデルのインスタンス作成\n",
        "problem = pulp.LpProblem(name='DiscountCouponProblem3', sense=pulp.LpMaximize)\n",
        "#　（1）各会員に対してどのダイレクトメールを送付するかを決定\n",
        "x = {}\n",
        "#　［0,1］の変数を宣言\n",
        "for s in S:\n",
        "    for m in M:\n",
        "        xsm[s,m] = pulp.LpVariable(name=f'xsm({s},{m})',lowBound=0, upBound=1, cat='Continuous')\n",
        "#　（2）各会員に対して送付するダイレクトメールはいずれか1パターン\n",
        "for s in S:\n",
        "    problem += pulp.lpSum(xsm[s,m] for m in M) == 1\n",
        "#　（3）クーポン付与による来客増加数を最大化\n",
        "problem += pulp.lpSum(Ns[s] * (Psm[s,m] - Psm[s,1]) * xsm[s,m] for s in S for m in [2,3])\n",
        "#　（4）会員の予算消費期待値の合計は100万円以下\n",
        "problem += pulp.lpSum(Cm[m] * Ns[s] * Psm[s,m] * xsm[s,m] for s in S for m in [2,3]) <= 1000000\n",
        "#　（5）各パターンのダイレクトメールを設定した送付率の下限値以上に送付\n",
        "for s in S:\n",
        "    for m in M:\n",
        "        problem += xsm[s,m] >= max_lowerbound\n",
        "status = problem.solve()\n",
        "print(f'ステータス: {pulp.LpStatus[status]}, 目的関数値:{pulp.value(problem.objective):.4}')"
      ]
    },
    {
      "cell_type": "markdown",
      "metadata": {
        "id": "j8LWeiIooAVJ"
      },
      "source": [
        "### 投資対効果の評価"
      ]
    },
    {
      "cell_type": "code",
      "execution_count": 52,
      "metadata": {
        "id": "zK-zVWkp3dXL"
      },
      "outputs": [],
      "source": [
        "cost_list = []\n",
        "cpa_list = []\n",
        "inc_action_list = []"
      ]
    },
    {
      "cell_type": "code",
      "execution_count": 53,
      "metadata": {
        "colab": {
          "base_uri": "https://localhost:8080/"
        },
        "id": "LNFikZh93hCK",
        "outputId": "f48b7dfa-8e5d-4c06-d5f1-9f81eccbd95e"
      },
      "outputs": [
        {
          "name": "stdout",
          "output_type": "stream",
          "text": [
            "ステータス, キャンペーン費用, 来客増加数, CPA\n",
            "Optimal, 761850, 229.0, 3326.9\n",
            "Optimal, 861850, 273.1, 3156.3\n",
            "Optimal, 961850, 311.9, 3084.0\n",
            "Optimal, 1061850, 349.1, 3042.0\n",
            "Optimal, 1161850, 385.8, 3011.8\n",
            "Optimal, 1261850, 422.3, 2988.0\n",
            "Optimal, 1361850, 458.8, 2968.0\n",
            "Optimal, 1461850, 495.2, 2951.8\n",
            "Optimal, 1561850, 530.5, 2944.2\n",
            "Optimal, 1661850, 565.6, 2938.4\n",
            "Optimal, 1761850, 600.7, 2933.2\n",
            "Optimal, 1861850, 634.2, 2935.9\n",
            "Optimal, 1961850, 667.3, 2940.2\n",
            "Optimal, 2061850, 700.2, 2944.5\n",
            "Optimal, 2161850, 732.5, 2951.4\n",
            "Optimal, 2261850, 764.1, 2960.1\n",
            "Optimal, 2361850, 795.5, 2969.2\n",
            "Optimal, 2461850, 826.8, 2977.5\n",
            "Optimal, 2561850, 858.1, 2985.3\n",
            "Optimal, 2661850, 889.5, 2992.6\n",
            "Optimal, 2761850, 920.8, 2999.3\n",
            "Optimal, 2861850, 951.7, 3007.1\n",
            "Optimal, 2961850, 981.9, 3016.4\n"
          ]
        }
      ],
      "source": [
        "print('ステータス, キャンペーン費用, 来客増加数, CPA')\n",
        "for cost in range(761850, 3000000, 100000):\n",
        "    # 数理モデルのインスタンス作成\n",
        "    problem = pulp.LpProblem(name='DiscountCouponProblem2', sense=pulp.LpMaximize)\n",
        "    #　（1）各会員に対してどのダイレクトメールを送付するかを決定\n",
        "    xsm = {}\n",
        "    # [0,1]の変数を宣言\n",
        "    for s in S:\n",
        "        for m in M:\n",
        "            xsm[s,m] = pulp.LpVariable(name=f'xsm({s},{m})', lowBound=0, upBound=1, cat='Continuous')\n",
        "    #　（2）各会員に対して送付するダイレクトメールはいずれか1パターン\n",
        "    for s in S:\n",
        "        problem += pulp.lpSum(xsm[s,m] for m in M) == 1\n",
        "    #　（3）クーポン付与による来客増加数を最大化\n",
        "    problem += pulp.lpSum(Ns[s] * (Psm[s,m] - Psm[s,1]) * xsm[s,m] for s in S for m in [2,3])\n",
        "    #　（4）会員の予算消費期待値の合計はcost円以下\n",
        "    problem += pulp.lpSum(Cm[m] * Ns[s] * Psm[s,m] * xsm[s,m] for s in S for m in [2,3]) <= cost\n",
        "    #　（5）各パターンのダイレクトメールを設定した送付率の下限値以上に送付\n",
        "    for s in S:\n",
        "        for m in M:\n",
        "            problem += xsm[s,m] >= 0.1\n",
        "    status = problem.solve()\n",
        "    cpa = cost/pulp.value(problem.objective)\n",
        "    inc_action = pulp.value(problem.objective)\n",
        "    cost_list.append(cost)\n",
        "    cpa_list.append(cpa)\n",
        "    inc_action_list.append(inc_action)\n",
        "    print(f'{pulp.LpStatus[status]}, {cost}, {inc_action :.4}, {cpa :.5}')"
      ]
    },
    {
      "cell_type": "code",
      "execution_count": 54,
      "metadata": {
        "colab": {
          "base_uri": "https://localhost:8080/",
          "height": 279
        },
        "id": "mJ5m-BsR38YA",
        "outputId": "b77d869a-40e3-4778-8bfe-0bdaae6a04e4"
      },
      "outputs": [
        {
          "data": {
            "image/png": "[encoded data removed]",
            "text/plain": [
              "<Figure size 432x288 with 2 Axes>"
            ]
          },
          "metadata": {
            "needs_background": "light"
          },
          "output_type": "display_data"
        }
      ],
      "source": [
        "import matplotlib.ticker as ticker\n",
        "fig, ax1 = plt.subplots()\n",
        "ax2 = ax1.twinx()\n",
        "ax1.scatter(cost_list, inc_action_list, marker='x', label='Incremental visitor')\n",
        "ax2.scatter(cost_list, cpa_list, label='CPA')\n",
        "ax1.xaxis.set_major_formatter(ticker.FuncFormatter(lambda x, pos: f'{x :,.0f}'))\n",
        "ax1.yaxis.set_major_formatter(ticker.FuncFormatter(lambda x, pos: f'{x :,.0f}'))\n",
        "ax2.yaxis.set_major_formatter(ticker.FuncFormatter(lambda x, pos: f'{x :,.0f}'))\n",
        "ax1.set_xlabel('Cost')\n",
        "ax1.set_ylabel('Incremental visitor')\n",
        "ax2.set_ylabel('CPA')\n",
        "reg1, label1 = ax1.get_legend_handles_labels()\n",
        "reg2, label2 = ax2.get_legend_handles_labels()\n",
        "ax2.legend(reg1 + reg2, label1 + label2, loc='upper center')\n",
        "plt.show()"
      ]
    }
  ],
  "metadata": {
    "colab": {
      "collapsed_sections": [],
      "name": "第4章 割引クーポンキャンペーンの効果最大化",
      "provenance": []
    },
    "interpreter": {
      "hash": "6078f15a2282daca250a0ea9e1d11a79c1b448ef035aad4c4536dcfa3c2de0a5"
    },
    "kernelspec": {
      "display_name": "Python 3.8.1 64-bit ('py38': conda)",
      "name": "python3"
    },
    "language_info": {
      "codemirror_mode": {
        "name": "ipython",
        "version": 3
      },
      "file_extension": ".py",
      "mimetype": "text/x-python",
      "name": "python",
      "nbconvert_exporter": "python",
      "pygments_lexer": "ipython3",
      "version": "3.8.1"
    }
  },
  "nbformat": 4,
  "nbformat_minor": 2
}
